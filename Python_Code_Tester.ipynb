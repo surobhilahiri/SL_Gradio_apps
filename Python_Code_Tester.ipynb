{
  "nbformat": 4,
  "nbformat_minor": 0,
  "metadata": {
    "colab": {
      "provenance": []
    },
    "kernelspec": {
      "name": "python3",
      "display_name": "Python 3"
    },
    "language_info": {
      "name": "python"
    }
  },
  "cells": [
    {
      "cell_type": "code",
      "execution_count": null,
      "metadata": {
        "id": "4kBVSeRRNQ02"
      },
      "outputs": [],
      "source": [
        "!pip -q install gradio"
      ]
    },
    {
      "cell_type": "code",
      "source": [
        "import gradio as gr\n",
        "import subprocess\n",
        "\n",
        "test_case_bytes = b\"def add(x, y):\\n  return x + y\\n\\nresult = add(2, 3)\\nprint(result)\"\n",
        "test_case_string = test_case_bytes.decode('utf-8')  # Decode assuming UTF-8 encoding\n",
        "\n",
        "def evaluate_code(code):\n",
        "\n",
        "  \"\"\"\n",
        "  Evaluates the submitted Python code against a test case.\n",
        "\n",
        "  Args:\n",
        "      code (str): The Python code submitted by the student.\n",
        "\n",
        "  Returns:\n",
        "      str: A message indicating if the code passed or failed the test case,\n",
        "          along with the expected and actual outputs.\n",
        "  \"\"\"\n",
        "  test_case = \"\"\"\n",
        "def add(x, y):\n",
        "  return x + y\n",
        "\n",
        "# Test the add function\n",
        "result = add(2, 3)\n",
        "print(result)\n",
        "\"\"\"\n",
        "# Define test case as bytes\n",
        "\n",
        "  try:\n",
        "    # Combine student and test case code\n",
        "    ## combined_code = code + test_case_string\n",
        "    combined_code = code\n",
        "\n",
        "    # Execute the code in a safe environment with timeout\n",
        "    result = subprocess.run(\n",
        "        [\"python\"],\n",
        "        input=combined_code,\n",
        "        capture_output=True,\n",
        "        text=True,\n",
        "        timeout=15  # Adjust timeout as needed\n",
        "    )\n",
        "\n",
        "    # Check if the output matches the expected output\n",
        "    expected_output = \"5\"\n",
        "    if result.returncode == 0 and result.stdout.strip() == expected_output:\n",
        "      return \"Code passed! Expected output: \" + expected_output + \". Your output: \" + result.stdout.strip()\n",
        "    else:\n",
        "      return \"Code failed the test case. Expected output: \" + expected_output + \". Your output: \" + result.stdout.strip() if result.stdout else \"No output\"\n",
        "\n",
        "  except subprocess.TimeoutExpired:\n",
        "    return \"Timeout Error: Code execution timed out.\"\n",
        "  except Exception as e:\n",
        "    return f\"Error: {e}\"\n",
        "\n",
        "interface = gr.Interface(\n",
        "  fn=evaluate_code,\n",
        "  inputs=\"textarea\",\n",
        "  outputs=\"text\",\n",
        "  title=\"Python Code Tester\",\n",
        "  description=\"Enter your Python code below and see if it passes the test case.\"\n",
        ")\n",
        "\n",
        "interface.launch(debug=True)\n"
      ],
      "metadata": {
        "id": "kUbod6vINauG"
      },
      "execution_count": null,
      "outputs": []
    }
  ]
}